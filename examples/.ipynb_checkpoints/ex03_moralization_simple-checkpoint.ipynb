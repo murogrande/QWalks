{
 "cells": [
  {
   "cell_type": "markdown",
   "metadata": {},
   "source": [
    "# Spontaneous moralization on simple graph"
   ]
  },
  {
   "cell_type": "markdown",
   "metadata": {},
   "source": [
    "## Loading modules"
   ]
  },
  {
   "cell_type": "code",
   "execution_count": 1,
   "metadata": {},
   "outputs": [],
   "source": [
    "using QSWalk\n",
    "using GraphPlot # For plotting graph\n",
    "using LightGraphs \n",
    "using LinearAlgebra"
   ]
  },
  {
   "cell_type": "markdown",
   "metadata": {},
   "source": [
    "## Moralizing evolution"
   ]
  },
  {
   "cell_type": "markdown",
   "metadata": {},
   "source": [
    "Here we provide the simple example of graph, for which the spontaneous moralization happens. Note there is no path from vertex 1 to 2."
   ]
  },
  {
   "cell_type": "code",
   "execution_count": 5,
   "metadata": {},
   "outputs": [
    {
     "data": {
      "text/plain": [
       "true"
      ]
     },
     "execution_count": 5,
     "metadata": {},
     "output_type": "execute_result"
    }
   ],
   "source": [
    "digraph = DiGraph(3)\n",
    "add_edge!(digraph, 1, 3)\n",
    "add_edge!(digraph, 2, 3)\n",
    "\n",
    "#gplot(digraph)"
   ]
  },
  {
   "cell_type": "code",
   "execution_count": 6,
   "metadata": {},
   "outputs": [
    {
     "data": {
      "text/plain": [
       "3×3 SparseArrays.SparseMatrixCSC{Int64, Int64} with 2 stored entries:\n",
       " ⋅  ⋅  1\n",
       " ⋅  ⋅  1\n",
       " ⋅  ⋅  ⋅"
      ]
     },
     "execution_count": 6,
     "metadata": {},
     "output_type": "execute_result"
    }
   ],
   "source": [
    "adjacency_matrix(digraph)"
   ]
  },
  {
   "cell_type": "markdown",
   "metadata": {},
   "source": [
    "Here we generate some basic operators. Note in the case of directed graphs we need to transpose adjacency matrix, as *QSWalk.jl* multiplies the state on the right side of evolution operator. Note we choose zero matrix as Hamiltonian of the system. \n",
    "\n",
    "As we deal with the graph of very small size, we choose full-matrix evolution algorithm. In order to do such, we need to provide in opmoral at least one full matrix."
   ]
  },
  {
   "cell_type": "code",
   "execution_count": 7,
   "metadata": {},
   "outputs": [
    {
     "name": "stdout",
     "output_type": "stream",
     "text": [
      "Matrix{ComplexF64}\n"
     ]
    }
   ],
   "source": [
    "adjacency = Matrix(transpose(adjacency_matrix(digraph)))\n",
    "timepoint = 100.\n",
    "\n",
    "opmoral = evolve_generator(zero(adjacency), [adjacency])\n",
    "println(typeof(opmoral))"
   ]
  },
  {
   "cell_type": "code",
   "execution_count": 9,
   "metadata": {},
   "outputs": [
    {
     "data": {
      "text/plain": [
       "3×3 Matrix{Int64}:\n",
       " 0  0  0\n",
       " 0  0  0\n",
       " 1  1  0"
      ]
     },
     "execution_count": 9,
     "metadata": {},
     "output_type": "execute_result"
    }
   ],
   "source": [
    "adjacency"
   ]
  },
  {
   "cell_type": "markdown",
   "metadata": {},
   "source": [
    "As a result of the evolution we get an stationary state with non-zero probability of measuring vertex 2. Note the state is actually a stationary state."
   ]
  },
  {
   "cell_type": "code",
   "execution_count": 10,
   "metadata": {},
   "outputs": [
    {
     "name": "stdout",
     "output_type": "stream",
     "text": [
      "Cannonical measurement on stationary state:   [1]  =  0.25\n",
      "  [2]  =  0.25\n",
      "  [3]  =  0.5\n",
      "Norm of opmoral times rho: 9.100274040305112e-17\n"
     ]
    }
   ],
   "source": [
    "rho = evolve(opmoral, proj(1, 3), timepoint)\n",
    "println(\"Cannonical measurement on stationary state: $(real.(diag(rho)))\")\n",
    "println(\"Norm of opmoral times rho: $(norm(opmoral*res(rho)))\")"
   ]
  },
  {
   "cell_type": "markdown",
   "metadata": {},
   "source": [
    "## Non-moralizing evolution"
   ]
  },
  {
   "cell_type": "markdown",
   "metadata": {},
   "source": [
    "In this example we present model, which do not possess unintuitive property."
   ]
  },
  {
   "cell_type": "code",
   "execution_count": 11,
   "metadata": {},
   "outputs": [],
   "source": [
    "lnonmoral, vset = nm_lind(adjacency)\n",
    "hlocal = nm_loc_ham(vset)\n",
    "opnonmoral = evolve_generator(zero(lnonmoral), [lnonmoral], hlocal);"
   ]
  },
  {
   "cell_type": "code",
   "execution_count": 14,
   "metadata": {},
   "outputs": [
    {
     "data": {
      "text/plain": [
       "VertexSet(Vertex[Vertex([1]), Vertex([2]), Vertex([3, 4])])"
      ]
     },
     "execution_count": 14,
     "metadata": {},
     "output_type": "execute_result"
    }
   ],
   "source": [
    "vset"
   ]
  },
  {
   "cell_type": "markdown",
   "metadata": {},
   "source": [
    "*vset* and *hlocal* represent parametrization and additional operator for non-moralizing evolution. Note that vset is actually a partition of the new, increased linear space between vertices."
   ]
  },
  {
   "cell_type": "code",
   "execution_count": 15,
   "metadata": {},
   "outputs": [
    {
     "name": "stdout",
     "output_type": "stream",
     "text": [
      "vset: VertexSet(Vertex[Vertex([1]), Vertex([2]), Vertex([3, 4])])\n",
      "Subspace dimension: 4\n",
      "Size of new Lindblad operator: (4, 4)\n"
     ]
    }
   ],
   "source": [
    "println(\"vset: $vset\")\n",
    "println(\"Subspace dimension: $(vertexsetsize(vset))\")\n",
    "println(\"Size of new Lindblad operator: $(size(lnonmoral))\")"
   ]
  },
  {
   "cell_type": "markdown",
   "metadata": {},
   "source": [
    "Since the subspace has different dimension, one should consider using more advanced functions for initial states. The function below creates a state localized in subspace corresponding to vertex 1. Note it coincides with the first element of *vset*. "
   ]
  },
  {
   "cell_type": "code",
   "execution_count": 16,
   "metadata": {},
   "outputs": [
    {
     "name": "stdout",
     "output_type": "stream",
     "text": [
      "state: sparse([1], [1], ComplexF64[1.0 + 0.0im], 4, 4)\n",
      "equivalence class corresponding to vertex 1: Vertex[Vertex([1])]\n"
     ]
    }
   ],
   "source": [
    "rhoinit = nm_init(vset[[1]], vset)\n",
    "println(\"state: $rhoinit\")\n",
    "println(\"equivalence class corresponding to vertex 1: $(vset[[1]])\")"
   ]
  },
  {
   "cell_type": "markdown",
   "metadata": {},
   "source": [
    "This result in evolution, which prohibit passing amplitude to vertex 2. This can be seen in the example below."
   ]
  },
  {
   "cell_type": "code",
   "execution_count": 17,
   "metadata": {},
   "outputs": [
    {
     "name": "stdout",
     "output_type": "stream",
     "text": [
      "Natural measurement on state: [5.024649860562666e-33, -5.748489464418707e-33, 0.9999999999999917]\n"
     ]
    }
   ],
   "source": [
    "rho = evolve(opnonmoral, rhoinit, timepoint)\n",
    "println(\"Natural measurement on state: $(nm_measurement(rho, vset))\")"
   ]
  },
  {
   "cell_type": "code",
   "execution_count": null,
   "metadata": {},
   "outputs": [],
   "source": []
  }
 ],
 "metadata": {
  "@webio": {
   "lastCommId": null,
   "lastKernelId": null
  },
  "kernelspec": {
   "display_name": "Julia 1.7.3",
   "language": "julia",
   "name": "julia-1.7"
  },
  "language_info": {
   "file_extension": ".jl",
   "mimetype": "application/julia",
   "name": "julia",
   "version": "1.7.3"
  }
 },
 "nbformat": 4,
 "nbformat_minor": 2
}
