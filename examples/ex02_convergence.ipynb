{
 "cells": [
  {
   "cell_type": "markdown",
   "metadata": {},
   "source": [
    "# Convergence on local interaction model\n"
   ]
  },
  {
   "cell_type": "markdown",
   "metadata": {},
   "source": [
    "## Loading modules"
   ]
  },
  {
   "cell_type": "code",
   "execution_count": 2,
   "metadata": {},
   "outputs": [],
   "source": [
    "using QSWalk\n",
    "using LightGraphs # for graph functions \n",
    "using GraphPlot # for ploting graphs \n",
    "using LinearAlgebra # for linear algebra utilities"
   ]
  },
  {
   "cell_type": "markdown",
   "metadata": {},
   "source": [
    "## Numerical proof of unique stationary state"
   ]
  },
  {
   "cell_type": "markdown",
   "metadata": {},
   "source": [
    "Basic parameters. We use Erdős–Rényi model to generate a directed graph. Strongly connected graphs have unique stationary state. Note the Hamiltonian is chosen to be the adjacency matrix of the underlying graph."
   ]
  },
  {
   "cell_type": "code",
   "execution_count": 6,
   "metadata": {},
   "outputs": [
    {
     "name": "stdout",
     "output_type": "stream",
     "text": [
      "The graph is strongly connected: true\n"
     ]
    },
    {
     "ename": "LoadError",
     "evalue": "MethodError: no method matching spring_layout(::SimpleDiGraph{Int64})\n\u001b[0mClosest candidates are:\n\u001b[0m  spring_layout(\u001b[91m::Graphs.AbstractGraph\u001b[39m) at ~/.julia/packages/GraphPlot/HXIna/src/layout.jl:104\n\u001b[0m  spring_layout(\u001b[91m::Graphs.AbstractGraph\u001b[39m, \u001b[91m::Integer\u001b[39m, \u001b[91m::Any...\u001b[39m) at ~/.julia/packages/GraphPlot/HXIna/src/layout.jl:177\n\u001b[0m  spring_layout(\u001b[91m::Graphs.AbstractGraph\u001b[39m, \u001b[91m::Any\u001b[39m) at ~/.julia/packages/GraphPlot/HXIna/src/layout.jl:104\n\u001b[0m  ...",
     "output_type": "error",
     "traceback": [
      "MethodError: no method matching spring_layout(::SimpleDiGraph{Int64})\n\u001b[0mClosest candidates are:\n\u001b[0m  spring_layout(\u001b[91m::Graphs.AbstractGraph\u001b[39m) at ~/.julia/packages/GraphPlot/HXIna/src/layout.jl:104\n\u001b[0m  spring_layout(\u001b[91m::Graphs.AbstractGraph\u001b[39m, \u001b[91m::Integer\u001b[39m, \u001b[91m::Any...\u001b[39m) at ~/.julia/packages/GraphPlot/HXIna/src/layout.jl:177\n\u001b[0m  spring_layout(\u001b[91m::Graphs.AbstractGraph\u001b[39m, \u001b[91m::Any\u001b[39m) at ~/.julia/packages/GraphPlot/HXIna/src/layout.jl:104\n\u001b[0m  ...",
      "",
      "Stacktrace:",
      " [1] gplot(g::SimpleDiGraph{Int64}; layout::typeof(spring_layout), keyargs::Base.Pairs{Symbol, Union{}, Tuple{}, NamedTuple{(), Tuple{}}})",
      "   @ GraphPlot ~/.julia/packages/GraphPlot/HXIna/src/plot.jl:229",
      " [2] gplot(g::SimpleDiGraph{Int64})",
      "   @ GraphPlot ~/.julia/packages/GraphPlot/HXIna/src/plot.jl:229",
      " [3] top-level scope",
      "   @ In[6]:13",
      " [4] eval",
      "   @ ./boot.jl:373 [inlined]",
      " [5] include_string(mapexpr::typeof(REPL.softscope), mod::Module, code::String, filename::String)",
      "   @ Base ./loading.jl:1196"
     ]
    }
   ],
   "source": [
    "# number of nodes\n",
    "dim = 8\n",
    "# smaller vale of 'prob' can be used to geneate graphs which are not strongly connected\n",
    "prob = 0.6\n",
    "digraph = erdos_renyi(dim, prob, is_directed=true)\n",
    "graph = Graph(digraph)\n",
    "\n",
    "adj_digraph = Matrix(adjacency_matrix(digraph, dir=:in))\n",
    "adj_graph = Matrix(adjacency_matrix(graph))\n",
    "time = 100.\n",
    "\n",
    "println(\"The graph is strongly connected: $(is_strongly_connected(digraph))\")\n",
    "gplot(digraph)"
   ]
  },
  {
   "cell_type": "markdown",
   "metadata": {},
   "source": [
    "Now we can calcuate the lindbladian and the subgroup generator."
   ]
  },
  {
   "cell_type": "code",
   "execution_count": 7,
   "metadata": {},
   "outputs": [],
   "source": [
    "lind = local_lind(adj_digraph)\n",
    "evo_gen = evolve_generator(adj_graph, lind);"
   ]
  },
  {
   "cell_type": "markdown",
   "metadata": {},
   "source": [
    "The sufficient and necessary condition for the convergence of quantum stochastic evolution is that the null-space is  one-dimensional. Note for large matrices *eigs* may be a better option."
   ]
  },
  {
   "cell_type": "code",
   "execution_count": 8,
   "metadata": {},
   "outputs": [
    {
     "name": "stdout",
     "output_type": "stream",
     "text": [
      "Dimensionality of null-space of the evolution operator: 1\n"
     ]
    }
   ],
   "source": [
    "null_dim = count(x->abs(x)<1e-5, eigvals(evo_gen))\n",
    "println(\"Dimensionality of null-space of the evolution operator: $null_dim\")"
   ]
  },
  {
   "cell_type": "markdown",
   "metadata": {},
   "source": [
    "This allows efficient stationary state generation. Note that the trace may differ from one, as the eigenstate is normalized according to different norm."
   ]
  },
  {
   "cell_type": "code",
   "execution_count": 9,
   "metadata": {},
   "outputs": [
    {
     "name": "stdout",
     "output_type": "stream",
     "text": [
      "Trace of stationary state: 2.3974240986573423 + 1.6583956430338276e-15im\n",
      "Trace of stationary state after the normalization: 1.0000000000000002 - 2.7733391199176196e-32im\n"
     ]
    }
   ],
   "source": [
    "eigendecomposition = eigen(evo_gen)\n",
    "zeroindex = findfirst(x -> abs(x)<=1.e-5, eigendecomposition.values)\n",
    "stationary_state = unres(vec(eigendecomposition.vectors[:, zeroindex]))\n",
    "\n",
    "println(\"Trace of stationary state: $(sum(diag(stationary_state)))\")\n",
    "stationary_state /= sum(diag(stationary_state))\n",
    "println(\"Trace of stationary state after the normalization: $(sum(diag(stationary_state)))\")"
   ]
  },
  {
   "cell_type": "markdown",
   "metadata": {},
   "source": [
    "## Convergence"
   ]
  },
  {
   "cell_type": "markdown",
   "metadata": {},
   "source": [
    "Since the stationary state is unique, all of states converge to it. We can show check this by taking three different states. Note, that for larger density states larger times of evolution might be required to achieve the convergence."
   ]
  },
  {
   "cell_type": "code",
   "execution_count": 10,
   "metadata": {},
   "outputs": [
    {
     "data": {
      "text/plain": [
       "8×8 Diagonal{Float64, Vector{Float64}}:\n",
       " 0.125   ⋅      ⋅      ⋅      ⋅      ⋅      ⋅      ⋅ \n",
       "  ⋅     0.125   ⋅      ⋅      ⋅      ⋅      ⋅      ⋅ \n",
       "  ⋅      ⋅     0.125   ⋅      ⋅      ⋅      ⋅      ⋅ \n",
       "  ⋅      ⋅      ⋅     0.125   ⋅      ⋅      ⋅      ⋅ \n",
       "  ⋅      ⋅      ⋅      ⋅     0.125   ⋅      ⋅      ⋅ \n",
       "  ⋅      ⋅      ⋅      ⋅      ⋅     0.125   ⋅      ⋅ \n",
       "  ⋅      ⋅      ⋅      ⋅      ⋅      ⋅     0.125   ⋅ \n",
       "  ⋅      ⋅      ⋅      ⋅      ⋅      ⋅      ⋅     0.125"
      ]
     },
     "execution_count": 10,
     "metadata": {},
     "output_type": "execute_result"
    }
   ],
   "source": [
    "rhoinit1 = proj(1, dim)\n",
    "rhoinit2 = proj(3, dim)\n",
    "rhoinit3 = Diagonal(I,dim)/dim"
   ]
  },
  {
   "cell_type": "markdown",
   "metadata": {},
   "source": [
    "Since we apply the same evolution for all of the initial states, it is more efficient to calulate exponent once."
   ]
  },
  {
   "cell_type": "code",
   "execution_count": 11,
   "metadata": {},
   "outputs": [],
   "source": [
    "U = evolve_operator(evo_gen, time)\n",
    "rho1 = evolve(U, rhoinit1)\n",
    "rho2 = evolve(U, rhoinit2)\n",
    "rho3 = evolve(U, rhoinit3);"
   ]
  },
  {
   "cell_type": "markdown",
   "metadata": {},
   "source": [
    "In order to show those states are essentialy the same we can calulate the norm of the difference."
   ]
  },
  {
   "cell_type": "code",
   "execution_count": 12,
   "metadata": {},
   "outputs": [
    {
     "name": "stdout",
     "output_type": "stream",
     "text": [
      "8.041235704745722e-18\n",
      "1.166842690259138e-16\n",
      "2.6787735595000584e-14\n"
     ]
    }
   ],
   "source": [
    "println(norm(rho1-rho2))\n",
    "println(norm(rho2-rho3))\n",
    "println(norm(stationary_state-rho3))"
   ]
  },
  {
   "cell_type": "code",
   "execution_count": null,
   "metadata": {},
   "outputs": [],
   "source": []
  },
  {
   "cell_type": "code",
   "execution_count": null,
   "metadata": {},
   "outputs": [],
   "source": []
  }
 ],
 "metadata": {
  "@webio": {
   "lastCommId": null,
   "lastKernelId": null
  },
  "kernelspec": {
   "display_name": "Julia 1.7.3",
   "language": "julia",
   "name": "julia-1.7"
  },
  "language_info": {
   "file_extension": ".jl",
   "mimetype": "application/julia",
   "name": "julia",
   "version": "1.7.3"
  }
 },
 "nbformat": 4,
 "nbformat_minor": 2
}
