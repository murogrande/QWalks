{
 "cells": [
  {
   "cell_type": "markdown",
   "metadata": {},
   "source": [
    "# Spontaneous moralization on path graph"
   ]
  },
  {
   "cell_type": "markdown",
   "metadata": {},
   "source": [
    "## Loading modules"
   ]
  },
  {
   "cell_type": "code",
   "execution_count": null,
   "metadata": {},
   "outputs": [],
   "source": [
    "using QSWalk\n",
    "using LightGraphs\n",
    "using PyPlot"
   ]
  },
  {
   "cell_type": "markdown",
   "metadata": {},
   "source": [
    "## Non-symmetric case"
   ]
  },
  {
   "cell_type": "markdown",
   "metadata": {},
   "source": [
    "Here we provide more advanced functions corresponding to sponatneous moralization. Below we start with simple parametrizations. Note *dim* should be odd for unique middle-point."
   ]
  },
  {
   "cell_type": "code",
   "execution_count": null,
   "metadata": {},
   "outputs": [],
   "source": [
    "dim = 101\n",
    "midpoint = ceil(Int, dim/2)\n",
    "w = 0.5\n",
    "timepoint = 40.\n",
    "adjacency = adjacency_matrix(PathGraph(dim));"
   ]
  },
  {
   "cell_type": "markdown",
   "metadata": {},
   "source": [
    "We generate all of the operators needed for the evolution, including initial state."
   ]
  },
  {
   "cell_type": "code",
   "execution_count": null,
   "metadata": {},
   "outputs": [],
   "source": [
    "lind, vset = nm_lind(adjacency)\n",
    "hglobal = nm_glob_ham(adjacency)\n",
    "hlocal = nm_loc_ham(vset)\n",
    "opnonsymmetric = evolve_generator(hglobal, [lind], hlocal, w)\n",
    "\n",
    "rhoinit = nm_init(vset[[midpoint]], vset);"
   ]
  },
  {
   "cell_type": "markdown",
   "metadata": {},
   "source": [
    "Finally we make an evolution."
   ]
  },
  {
   "cell_type": "code",
   "execution_count": null,
   "metadata": {},
   "outputs": [],
   "source": [
    "rho = evolve(opnonsymmetric, rhoinit, timepoint);"
   ]
  },
  {
   "cell_type": "markdown",
   "metadata": {},
   "source": [
    "Note that first moment of natural measurement deviates from zero."
   ]
  },
  {
   "cell_type": "code",
   "execution_count": null,
   "metadata": {},
   "outputs": [],
   "source": [
    "positions = (collect(1:dim).-midpoint)\n",
    "measurement_nonsymmetric = nm_measurement(rho, vset)\n",
    "println(\"First moment centralized in midpoint: $(sum(positions .* nm_measurement(rho, vset)))\")"
   ]
  },
  {
   "cell_type": "markdown",
   "metadata": {},
   "source": [
    "This is because of the non-symmetrices *lind* choice (analysis shows, that even removing *hlocal* and *hglobal* operators does not result in symmetric evolution). To confirm this, we plot natural measurement and its reflection around *n=midpoint*."
   ]
  },
  {
   "cell_type": "code",
   "execution_count": null,
   "metadata": {},
   "outputs": [],
   "source": [
    "plot(positions, measurement_nonsymmetric, \"k\")\n",
    "plot(positions, reverse(measurement_nonsymmetric), \"b\")\n",
    "xlabel(\"position\")\n",
    "ylabel(\"probability\")\n",
    "axis([positions[1], positions[end], 0, maximum(measurement_nonsymmetric)])\n",
    "vlines(0, 0., maximum(measurement_nonsymmetric), linestyles=\"--\")"
   ]
  },
  {
   "cell_type": "markdown",
   "metadata": {},
   "source": [
    "## Symmetric case"
   ]
  },
  {
   "cell_type": "markdown",
   "metadata": {},
   "source": [
    "The way to correct this is to choose another, symmetric Lindblad operator. While standard suage of *nm_lind* will always output the same result, we can choose different basic orthogonal matrices to form different operators. In following example. We choose dictionary, which for different vertex degree chooses different matrix."
   ]
  },
  {
   "cell_type": "code",
   "execution_count": null,
   "metadata": {},
   "outputs": [],
   "source": [
    "linddescription1 = Dict{Int,Matrix{Float64}}(1 => ones(1, 1), 2 => [1 1; 1 -1])\n",
    "linddescription2 = Dict{Int,Matrix{Float64}}(1 => ones(1, 1), 2 => [1 1; -1 1])\n",
    "lind1, vset = nm_lind(adjacency, linddescription1)\n",
    "lind2, vset = nm_lind(adjacency, linddescription2);"
   ]
  },
  {
   "cell_type": "markdown",
   "metadata": {},
   "source": [
    "We can make similar creation for each vertex. For example one can choose. We restrict ourselves to *lind1* and *lind2*, as those guarantees symmetrization."
   ]
  },
  {
   "cell_type": "code",
   "execution_count": null,
   "metadata": {},
   "outputs": [],
   "source": [
    "vset = make_vertex_set(adjacency)\n",
    "linddescription3 = Dict(v=>rand(length(v), length(v)) for v = vlist(vset))\n",
    "lind3, _ = nm_lind(adjacency, linddescription3);"
   ]
  },
  {
   "cell_type": "markdown",
   "metadata": {},
   "source": [
    "Other functions should be adjusted to use both *lind1* and *lind2*."
   ]
  },
  {
   "cell_type": "code",
   "execution_count": null,
   "metadata": {},
   "outputs": [],
   "source": [
    "hglobal = nm_glob_ham(adjacency)\n",
    "hlocal = nm_loc_ham(vset)\n",
    "opsymmetric = evolve_generator(hglobal, [lind1, lind2], hlocal, w)\n",
    "\n",
    "rhoinit = nm_init(vset[[midpoint]], vset)\n",
    "rho = evolve(opsymmetric, rhoinit, timepoint);"
   ]
  },
  {
   "cell_type": "markdown",
   "metadata": {},
   "source": [
    "Now both first momement and the distribution confirms symmetric evolution."
   ]
  },
  {
   "cell_type": "code",
   "execution_count": null,
   "metadata": {},
   "outputs": [],
   "source": [
    "positions = (collect(1:dim).-midpoint)\n",
    "measurement_symmetric = nm_measurement(rho, vset)\n",
    "println(\"First moment centralized in midpoint: $(sum(positions .* measurement_symmetric))\")\n",
    "\n",
    "plot(positions, measurement_symmetric, \"k\")\n",
    "plot(positions, reverse(measurement_symmetric), \"b\")\n",
    "xlabel(\"position\")\n",
    "ylabel(\"probability\")\n",
    "axis([positions[1], positions[end], 0, maximum(measurement_symmetric)])\n",
    "vlines(0, 0., maximum(measurement_symmetric), linestyles=\"--\")"
   ]
  }
 ],
 "metadata": {
  "@webio": {
   "lastCommId": null,
   "lastKernelId": null
  },
  "kernelspec": {
   "display_name": "Julia 1.0.1",
   "language": "julia",
   "name": "julia-1.0"
  },
  "language_info": {
   "file_extension": ".jl",
   "mimetype": "application/julia",
   "name": "julia",
   "version": "1.0.1"
  }
 },
 "nbformat": 4,
 "nbformat_minor": 2
}
