{
 "cells": [
  {
   "cell_type": "code",
   "execution_count": 20,
   "id": "13af6c54",
   "metadata": {},
   "outputs": [],
   "source": [
    "using Graphs\n",
    "using GraphPlot\n",
    "import Random"
   ]
  },
  {
   "cell_type": "code",
   "execution_count": null,
   "id": "457121af",
   "metadata": {},
   "outputs": [],
   "source": []
  },
  {
   "cell_type": "code",
   "execution_count": 25,
   "id": "c1295614",
   "metadata": {},
   "outputs": [
    {
     "ename": "LoadError",
     "evalue": "MethodError: no method matching spring_layout(::SimpleGraph{Int64})\n\u001b[0mClosest candidates are:\n\u001b[0m  spring_layout(\u001b[91m::Graphs.AbstractGraph\u001b[39m) at ~/.julia/packages/GraphPlot/HXIna/src/layout.jl:104\n\u001b[0m  spring_layout(\u001b[91m::Graphs.AbstractGraph\u001b[39m, \u001b[91m::Integer\u001b[39m, \u001b[91m::Any...\u001b[39m) at ~/.julia/packages/GraphPlot/HXIna/src/layout.jl:177\n\u001b[0m  spring_layout(\u001b[91m::Graphs.AbstractGraph\u001b[39m, \u001b[91m::Any\u001b[39m) at ~/.julia/packages/GraphPlot/HXIna/src/layout.jl:104\n\u001b[0m  ...",
     "output_type": "error",
     "traceback": [
      "MethodError: no method matching spring_layout(::SimpleGraph{Int64})\n\u001b[0mClosest candidates are:\n\u001b[0m  spring_layout(\u001b[91m::Graphs.AbstractGraph\u001b[39m) at ~/.julia/packages/GraphPlot/HXIna/src/layout.jl:104\n\u001b[0m  spring_layout(\u001b[91m::Graphs.AbstractGraph\u001b[39m, \u001b[91m::Integer\u001b[39m, \u001b[91m::Any...\u001b[39m) at ~/.julia/packages/GraphPlot/HXIna/src/layout.jl:177\n\u001b[0m  spring_layout(\u001b[91m::Graphs.AbstractGraph\u001b[39m, \u001b[91m::Any\u001b[39m) at ~/.julia/packages/GraphPlot/HXIna/src/layout.jl:104\n\u001b[0m  ...",
      "",
      "Stacktrace:",
      " [1] gplot(g::SimpleGraph{Int64}; layout::typeof(spring_layout), keyargs::Base.Pairs{Symbol, Base.OneTo{Int64}, Tuple{Symbol}, NamedTuple{(:nodelabel,), Tuple{Base.OneTo{Int64}}}})",
      "   @ GraphPlot ~/.julia/packages/GraphPlot/HXIna/src/plot.jl:229",
      " [2] top-level scope",
      "   @ In[25]:4",
      " [3] eval",
      "   @ ./boot.jl:373 [inlined]",
      " [4] include_string(mapexpr::typeof(REPL.softscope), mod::Module, code::String, filename::String)",
      "   @ Base ./loading.jl:1196"
     ]
    }
   ],
   "source": [
    "g = complete_bipartite_graph(2,2)\n",
    "#g = complete_bipartite_graph(2, 2)\n",
    "Random.seed!(42)\n",
    "gplot(g, nodelabel=vertices(g))"
   ]
  },
  {
   "cell_type": "code",
   "execution_count": 12,
   "id": "bd3da536",
   "metadata": {},
   "outputs": [
    {
     "ename": "LoadError",
     "evalue": "MethodError: no method matching spring_layout(::SimpleGraph{Int64})\n\u001b[0mClosest candidates are:\n\u001b[0m  spring_layout(\u001b[91m::Graphs.AbstractGraph\u001b[39m) at ~/.julia/packages/GraphPlot/HXIna/src/layout.jl:104\n\u001b[0m  spring_layout(\u001b[91m::Graphs.AbstractGraph\u001b[39m, \u001b[91m::Integer\u001b[39m, \u001b[91m::Any...\u001b[39m) at ~/.julia/packages/GraphPlot/HXIna/src/layout.jl:177\n\u001b[0m  spring_layout(\u001b[91m::Graphs.AbstractGraph\u001b[39m, \u001b[91m::Any\u001b[39m) at ~/.julia/packages/GraphPlot/HXIna/src/layout.jl:104\n\u001b[0m  ...",
     "output_type": "error",
     "traceback": [
      "MethodError: no method matching spring_layout(::SimpleGraph{Int64})\n\u001b[0mClosest candidates are:\n\u001b[0m  spring_layout(\u001b[91m::Graphs.AbstractGraph\u001b[39m) at ~/.julia/packages/GraphPlot/HXIna/src/layout.jl:104\n\u001b[0m  spring_layout(\u001b[91m::Graphs.AbstractGraph\u001b[39m, \u001b[91m::Integer\u001b[39m, \u001b[91m::Any...\u001b[39m) at ~/.julia/packages/GraphPlot/HXIna/src/layout.jl:177\n\u001b[0m  spring_layout(\u001b[91m::Graphs.AbstractGraph\u001b[39m, \u001b[91m::Any\u001b[39m) at ~/.julia/packages/GraphPlot/HXIna/src/layout.jl:104\n\u001b[0m  ...",
      "",
      "Stacktrace:",
      " [1] gplot(g::SimpleGraph{Int64}; layout::typeof(spring_layout), keyargs::Base.Pairs{Symbol, UnitRange{Int64}, Tuple{Symbol}, NamedTuple{(:nodelabel,), Tuple{UnitRange{Int64}}}})",
      "   @ GraphPlot ~/.julia/packages/GraphPlot/HXIna/src/plot.jl:229",
      " [2] top-level scope",
      "   @ In[12]:33",
      " [3] eval",
      "   @ ./boot.jl:373 [inlined]",
      " [4] include_string(mapexpr::typeof(REPL.softscope), mod::Module, code::String, filename::String)",
      "   @ Base ./loading.jl:1196"
     ]
    }
   ],
   "source": [
    "tree = SimpleDiGraph([\n",
    "        0 1 1 1 1 0 0 0 0 0 0 0 0 0 0 0 0\n",
    "        0 0 0 0 0 1 1 1 1 0 0 0 0 0 0 0 0 \n",
    "        0 0 0 0 0 0 0 0 0 1 1 1 1 0 0 0 0\n",
    "        0 0 0 0 0 0 0 0 0 0 0 0 0 1 1 1 1\n",
    "        0 0 0 0 0 0 0 0 0 0 0 0 0 0 0 0 0\n",
    "        0 0 0 0 0 0 0 0 0 0 0 0 0 0 0 0 0\n",
    "        0 0 0 0 0 0 0 0 0 0 0 0 0 0 0 0 0\n",
    "        0 0 0 0 0 0 0 0 0 0 0 0 0 0 0 0 0\n",
    "        0 0 0 0 0 0 0 0 0 0 0 0 0 0 0 0 0\n",
    "        0 0 0 0 0 0 0 0 0 0 0 0 0 0 0 0 0\n",
    "        0 0 0 0 0 0 0 0 0 0 0 0 0 0 0 0 0\n",
    "        0 0 0 0 0 0 0 0 0 0 0 0 0 0 0 0 0\n",
    "        0 0 0 0 0 0 0 0 0 0 0 0 0 0 0 0 0\n",
    "        0 0 0 0 0 0 0 0 0 0 0 0 0 0 0 0 0\n",
    "        0 0 0 0 0 0 0 0 0 0 0 0 0 0 0 0 0\n",
    "        0 0 0 0 0 0 0 0 0 0 0 0 0 0 0 0 0\n",
    "        0 0 0 0 0 0 0 0 0 0 0 0 0 0 0 0 0\n",
    "        ])\n",
    "\n",
    "tree2 = SimpleDiGraph([\n",
    "        0 1 1 1 1 0 0 0 0 \n",
    "        0 0 0 0 0 1 1 1 1 \n",
    "        0 0 0 0 0 0 0 0 0 \n",
    "        0 0 0 0 0 0 0 0 0 \n",
    "        0 0 0 0 0 0 0 0 0 \n",
    "        0 0 0 0 0 0 0 0 0 \n",
    "        0 0 0 0 0 0 0 0 0 \n",
    "        0 0 0 0 0 0 0 0 0 \n",
    "        0 0 0 0 0 0 0 0 0\n",
    "        ])\n",
    "# from list of edges\n",
    "gplot(\n",
    "    SimpleGraph(\n",
    "        [\n",
    "            Edge(1, 2),\n",
    "            Edge(1, 3),\n",
    "            Edge(3, 3),\n",
    "        ]\n",
    "    ),\n",
    "    nodelabel=1:3,\n",
    ")"
   ]
  },
  {
   "cell_type": "code",
   "execution_count": 13,
   "id": "ad7cb26c",
   "metadata": {},
   "outputs": [
    {
     "ename": "LoadError",
     "evalue": "MethodError: no method matching spring_layout(::SimpleDiGraph{Int64})\n\u001b[0mClosest candidates are:\n\u001b[0m  spring_layout(\u001b[91m::Graphs.AbstractGraph\u001b[39m) at ~/.julia/packages/GraphPlot/HXIna/src/layout.jl:104\n\u001b[0m  spring_layout(\u001b[91m::Graphs.AbstractGraph\u001b[39m, \u001b[91m::Integer\u001b[39m, \u001b[91m::Any...\u001b[39m) at ~/.julia/packages/GraphPlot/HXIna/src/layout.jl:177\n\u001b[0m  spring_layout(\u001b[91m::Graphs.AbstractGraph\u001b[39m, \u001b[91m::Any\u001b[39m) at ~/.julia/packages/GraphPlot/HXIna/src/layout.jl:104\n\u001b[0m  ...",
     "output_type": "error",
     "traceback": [
      "MethodError: no method matching spring_layout(::SimpleDiGraph{Int64})\n\u001b[0mClosest candidates are:\n\u001b[0m  spring_layout(\u001b[91m::Graphs.AbstractGraph\u001b[39m) at ~/.julia/packages/GraphPlot/HXIna/src/layout.jl:104\n\u001b[0m  spring_layout(\u001b[91m::Graphs.AbstractGraph\u001b[39m, \u001b[91m::Integer\u001b[39m, \u001b[91m::Any...\u001b[39m) at ~/.julia/packages/GraphPlot/HXIna/src/layout.jl:177\n\u001b[0m  spring_layout(\u001b[91m::Graphs.AbstractGraph\u001b[39m, \u001b[91m::Any\u001b[39m) at ~/.julia/packages/GraphPlot/HXIna/src/layout.jl:104\n\u001b[0m  ...",
      "",
      "Stacktrace:",
      " [1] gplot(g::SimpleDiGraph{Int64}; layout::typeof(spring_layout), keyargs::Base.Pairs{Symbol, Union{}, Tuple{}, NamedTuple{(), Tuple{}}})",
      "   @ GraphPlot ~/.julia/packages/GraphPlot/HXIna/src/plot.jl:229",
      " [2] gplot(g::SimpleDiGraph{Int64})",
      "   @ GraphPlot ~/.julia/packages/GraphPlot/HXIna/src/plot.jl:229",
      " [3] top-level scope",
      "   @ In[13]:1",
      " [4] eval",
      "   @ ./boot.jl:373 [inlined]",
      " [5] include_string(mapexpr::typeof(REPL.softscope), mod::Module, code::String, filename::String)",
      "   @ Base ./loading.jl:1196"
     ]
    }
   ],
   "source": [
    "gplot(tree2)"
   ]
  },
  {
   "cell_type": "code",
   "execution_count": null,
   "id": "dd410209",
   "metadata": {},
   "outputs": [],
   "source": []
  }
 ],
 "metadata": {
  "kernelspec": {
   "display_name": "Julia 1.7.3",
   "language": "julia",
   "name": "julia-1.7"
  },
  "language_info": {
   "file_extension": ".jl",
   "mimetype": "application/julia",
   "name": "julia",
   "version": "1.7.3"
  }
 },
 "nbformat": 4,
 "nbformat_minor": 5
}
