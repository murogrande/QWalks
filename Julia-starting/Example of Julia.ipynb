{
 "cells": [
  {
   "cell_type": "markdown",
   "id": "c96694a8",
   "metadata": {},
   "source": [
    "## Using Julia: starting point \n",
    "\n",
    "This notebook demonstrates how to use the basic features of Julia, such as variables and data types, arrays, operators, control flow, loops, functions, and modules. It also shows how to use the LinearAlgebra package to perform linear algebra operations.\n",
    "\n",
    "If you want to run something use shift + enter\n",
    "\n",
    "Something to notice is that 2^3 = 8. Different from Python: We recover ^ the exponentiation \n",
    "\n"
   ]
  },
  {
   "cell_type": "code",
   "execution_count": 1,
   "id": "638b2e1e",
   "metadata": {},
   "outputs": [
    {
     "name": "stdout",
     "output_type": "stream",
     "text": [
      "Hello, World!\n",
      "3\n",
      "4.5\n",
      "hello\n",
      "[1, 2, 3]\n",
      "[1.5, 2.5, 3.5]\n",
      "[\"a\", \"b\", \"c\"]\n",
      "x is positive\n",
      "1\n",
      "2\n",
      "3\n",
      "4\n",
      "5\n",
      "7\n",
      "[-3.9999999999999987, 4.499999999999999]\n"
     ]
    },
    {
     "data": {
      "text/plain": [
       "8"
      ]
     },
     "execution_count": 1,
     "metadata": {},
     "output_type": "execute_result"
    }
   ],
   "source": [
    "# Hello World\n",
    "println(\"Hello, World!\")\n",
    "\n",
    "# Variables and Data Types\n",
    "x = 3\n",
    "y = 4.5\n",
    "z = \"hello\"\n",
    "\n",
    "println(x) # prints 3\n",
    "println(y) # prints 4.5\n",
    "println(z) # prints \"hello\"\n",
    "\n",
    "# Arrays\n",
    "a = [1, 2, 3]\n",
    "b = [1.5, 2.5, 3.5]\n",
    "c = [\"a\", \"b\", \"c\"]\n",
    "\n",
    "println(a) # prints [1, 2, 3]\n",
    "println(b) # prints [1.5, 2.5, 3.5]\n",
    "println(c) # prints [\"a\", \"b\", \"c\"]\n",
    "\n",
    "# Operators\n",
    "x + y # returns 7.5\n",
    "x - y # returns -1.5\n",
    "x * y # returns 15.0\n",
    "x / y # returns 0.6666666666666666\n",
    "\n",
    "# Control Flow\n",
    "x = 5\n",
    "if x > 0\n",
    "    println(\"x is positive\")\n",
    "elseif x < 0\n",
    "    println(\"x is negative\")\n",
    "else\n",
    "    println(\"x is zero\")\n",
    "end\n",
    "\n",
    "# Loops\n",
    "for i in 1:5\n",
    "    println(i)\n",
    "end\n",
    "\n",
    "# Functions\n",
    "function add(x, y)\n",
    "    return x + y\n",
    "end\n",
    "\n",
    "result = add(3, 4)\n",
    "println(result) # prints 7\n",
    "\n",
    "# Modules\n",
    "using LinearAlgebra\n",
    "A = [1 2; 3 4]\n",
    "b = [5, 6]\n",
    "x = A \\ b\n",
    "println(x) # prints [ -4.0; 4.5]\n",
    "\n",
    "\n",
    "2^3"
   ]
  },
  {
   "cell_type": "code",
   "execution_count": null,
   "id": "52218bac",
   "metadata": {},
   "outputs": [],
   "source": []
  },
  {
   "cell_type": "markdown",
   "id": "d35d3cd1",
   "metadata": {},
   "source": [
    "## Something easy to calculate\n",
    " In the follwing example, we define a function called factorial() which takes an integer argument n. The function uses recursion to calculate the factorial by multiplying n by the factorial of n-1. The base case of the recursion is when n is 0, in which case the function returns 1."
   ]
  },
  {
   "cell_type": "code",
   "execution_count": 36,
   "id": "c4ede4db",
   "metadata": {},
   "outputs": [
    {
     "name": "stdout",
     "output_type": "stream",
     "text": [
      "The factorial of 5 is 120\n"
     ]
    }
   ],
   "source": [
    "function factorial(n::Int64)\n",
    "    if n == 0\n",
    "        return 1\n",
    "    else\n",
    "        return n * factorial(n-1)\n",
    "    end\n",
    "end\n",
    "\n",
    "n = 5\n",
    "println(\"The factorial of \",n,\" is \", factorial(n))\n"
   ]
  },
  {
   "cell_type": "code",
   "execution_count": null,
   "id": "eb1b9c77",
   "metadata": {},
   "outputs": [],
   "source": []
  },
  {
   "cell_type": "code",
   "execution_count": 37,
   "id": "4a711db1",
   "metadata": {},
   "outputs": [
    {
     "data": {
      "text/plain": [
       "v\"1.7.3\""
      ]
     },
     "execution_count": 37,
     "metadata": {},
     "output_type": "execute_result"
    }
   ],
   "source": [
    "## version of JUlia\n",
    "VERSION"
   ]
  },
  {
   "cell_type": "code",
   "execution_count": null,
   "id": "73a93c44",
   "metadata": {},
   "outputs": [],
   "source": []
  }
 ],
 "metadata": {
  "kernelspec": {
   "display_name": "Julia 1.7.3",
   "language": "julia",
   "name": "julia-1.7"
  },
  "language_info": {
   "file_extension": ".jl",
   "mimetype": "application/julia",
   "name": "julia",
   "version": "1.7.3"
  }
 },
 "nbformat": 4,
 "nbformat_minor": 5
}
