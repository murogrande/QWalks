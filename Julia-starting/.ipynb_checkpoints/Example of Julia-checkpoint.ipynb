{
 "cells": [
  {
   "cell_type": "markdown",
   "id": "c96694a8",
   "metadata": {},
   "source": [
    "## Using Julia: starting point \n",
    "\n",
    "This notebook demonstrates how to use the basic features of Julia, such as variables and data types, arrays, operators, control flow, loops, functions, and modules. It also shows how to use the LinearAlgebra package to perform linear algebra operations.\n",
    "\n",
    "If you want to run something use shift + enter\n",
    "\n",
    "Something to notice is that 2^3 = 8. Different from Python: We recover ^ the exponentiation \n",
    "\n"
   ]
  },
  {
   "cell_type": "code",
   "execution_count": 1,
   "id": "638b2e1e",
   "metadata": {},
   "outputs": [
    {
     "name": "stdout",
     "output_type": "stream",
     "text": [
      "Hello, World!\n",
      "3\n",
      "4.5\n",
      "hello\n",
      "[1, 2, 3]\n",
      "[1.5, 2.5, 3.5]\n",
      "[\"a\", \"b\", \"c\"]\n",
      "x is positive\n",
      "1\n",
      "2\n",
      "3\n",
      "4\n",
      "5\n",
      "7\n",
      "[-3.9999999999999987, 4.499999999999999]\n"
     ]
    },
    {
     "data": {
      "text/plain": [
       "8"
      ]
     },
     "execution_count": 1,
     "metadata": {},
     "output_type": "execute_result"
    }
   ],
   "source": [
    "# Hello World\n",
    "println(\"Hello, World!\")\n",
    "\n",
    "# Variables and Data Types\n",
    "x = 3\n",
    "y = 4.5\n",
    "z = \"hello\"\n",
    "\n",
    "println(x) # prints 3\n",
    "println(y) # prints 4.5\n",
    "println(z) # prints \"hello\"\n",
    "\n",
    "# Arrays\n",
    "a = [1, 2, 3]\n",
    "b = [1.5, 2.5, 3.5]\n",
    "c = [\"a\", \"b\", \"c\"]\n",
    "\n",
    "println(a) # prints [1, 2, 3]\n",
    "println(b) # prints [1.5, 2.5, 3.5]\n",
    "println(c) # prints [\"a\", \"b\", \"c\"]\n",
    "\n",
    "# Operators\n",
    "x + y # returns 7.5\n",
    "x - y # returns -1.5\n",
    "x * y # returns 15.0\n",
    "x / y # returns 0.6666666666666666\n",
    "\n",
    "# Control Flow\n",
    "x = 5\n",
    "if x > 0\n",
    "    println(\"x is positive\")\n",
    "elseif x < 0\n",
    "    println(\"x is negative\")\n",
    "else\n",
    "    println(\"x is zero\")\n",
    "end\n",
    "\n",
    "# Loops\n",
    "for i in 1:5\n",
    "    println(i)\n",
    "end\n",
    "\n",
    "# Functions\n",
    "function add(x, y)\n",
    "    return x + y\n",
    "end\n",
    "\n",
    "result = add(3, 4)\n",
    "println(result) # prints 7\n",
    "\n",
    "# Modules\n",
    "using LinearAlgebra\n",
    "A = [1 2; 3 4]\n",
    "b = [5, 6]\n",
    "x = A \\ b\n",
    "println(x) # prints [ -4.0; 4.5]\n",
    "\n",
    "\n",
    "2^3"
   ]
  },
  {
   "cell_type": "code",
   "execution_count": null,
   "id": "8043c46f",
   "metadata": {},
   "outputs": [],
   "source": []
  }
 ],
 "metadata": {
  "kernelspec": {
   "display_name": "Julia 1.7.3",
   "language": "julia",
   "name": "julia-1.7"
  },
  "language_info": {
   "file_extension": ".jl",
   "mimetype": "application/julia",
   "name": "julia",
   "version": "1.7.3"
  }
 },
 "nbformat": 4,
 "nbformat_minor": 5
}
